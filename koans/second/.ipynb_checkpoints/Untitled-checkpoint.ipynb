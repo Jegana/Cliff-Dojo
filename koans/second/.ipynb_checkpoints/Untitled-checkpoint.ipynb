{
 "cells": [
  {
   "cell_type": "markdown",
   "metadata": {},
   "source": [
    "# This is lesson 2"
   ]
  },
  {
   "cell_type": "markdown",
   "metadata": {},
   "source": [
    "## first some review"
   ]
  },
  {
   "cell_type": "markdown",
   "metadata": {},
   "source": [
    "1. Create a variable of each kind and print them\n",
    "2. Iterate over a list and count to 5\n",
    "3. Create a user input, if \"yes\" print \"woo\" else print \"nahhh\""
   ]
  },
  {
   "cell_type": "code",
   "execution_count": 4,
   "metadata": {
    "collapsed": false
   },
   "outputs": [
    {
     "name": "stdout",
     "output_type": "stream",
     "text": [
      "yes\n",
      "woo\n"
     ]
    }
   ],
   "source": [
    "answer = raw_input()\n",
    "\n",
    "if (answer == \"yes\"):\n",
    "    print(\"woo\")\n",
    "else:\n",
    "    print(\"nahhh\")"
   ]
  },
  {
   "cell_type": "markdown",
   "metadata": {},
   "source": [
    "def name_of_function()"
   ]
  },
  {
   "cell_type": "code",
   "execution_count": 7,
   "metadata": {
    "collapsed": false
   },
   "outputs": [
    {
     "data": {
      "text/plain": [
       "True"
      ]
     },
     "execution_count": 7,
     "metadata": {},
     "output_type": "execute_result"
    }
   ],
   "source": [
    "#Example function\n",
    "def example_function(arg1, arg2, _):\n",
    "    return\n",
    "#HOW WE CALL THE FUNCTION\n",
    "variable = example_function('argument1', {}, [])\n",
    "variable is None"
   ]
  },
  {
   "cell_type": "code",
   "execution_count": 11,
   "metadata": {
    "collapsed": false
   },
   "outputs": [
    {
     "name": "stdout",
     "output_type": "stream",
     "text": [
      "25\n"
     ]
    }
   ],
   "source": [
    "def square_number(number):\n",
    "    return number * number\n",
    "\n",
    "returned_value = square_number(5)\n",
    "print(returned_value)"
   ]
  },
  {
   "cell_type": "code",
   "execution_count": 1,
   "metadata": {
    "collapsed": false
   },
   "outputs": [
    {
     "data": {
      "text/plain": [
       "49"
      ]
     },
     "execution_count": 1,
     "metadata": {},
     "output_type": "execute_result"
    }
   ],
   "source": [
    "#square = lambda x: x*x\n",
    "#same as\n",
    "def square(number_to_square):\n",
    "    return number_to_square*number_to_square\n",
    "\n",
    "square(7)"
   ]
  },
  {
   "cell_type": "code",
   "execution_count": 1,
   "metadata": {
    "collapsed": false
   },
   "outputs": [
    {
     "name": "stdout",
     "output_type": "stream",
     "text": [
      "7 is odd\n",
      "8\n"
     ]
    },
    {
     "data": {
      "text/plain": [
       "8"
      ]
     },
     "execution_count": 1,
     "metadata": {},
     "output_type": "execute_result"
    }
   ],
   "source": [
    "#is_even = lambda x: True if x%2==0 else False\n",
    "#same as\n",
    "def even_function_printer(number):\n",
    "    if (number)%2==0:\n",
    "        print(number)\n",
    "        return(number)\n",
    "    else:\n",
    "        print(str(number) + \" is odd\")\n",
    "\n",
    "even_function_printer(7)\n",
    "even_function_printer(8)"
   ]
  },
  {
   "cell_type": "code",
   "execution_count": 15,
   "metadata": {
    "collapsed": false
   },
   "outputs": [
    {
     "name": "stdout",
     "output_type": "stream",
     "text": [
      "Hello World!\n",
      "5 is not a string\n"
     ]
    }
   ],
   "source": [
    "#is_str = lambda x: isinstance(x, str)\n",
    "#same as\n",
    "def string_checker_function(example):\n",
    "    if isinstance(example, str):\n",
    "        print(example)\n",
    "    else:\n",
    "        print(str(example) + \" is not a string\")\n",
    "\n",
    "string_checker_function(\"Hello World!\")\n",
    "string_checker_function(5)"
   ]
  },
  {
   "cell_type": "code",
   "execution_count": 1,
   "metadata": {
    "collapsed": false
   },
   "outputs": [
    {
     "name": "stdout",
     "output_type": "stream",
     "text": [
      "yes\n",
      "no\n"
     ]
    }
   ],
   "source": [
    "#map_true_to_yes = lambda x: 'yes' if x is True else 'no'\n",
    "#same as\n",
    "def yes_checker(math):\n",
    "    if (math)==True:\n",
    "        print\"yes\"\n",
    "    else:\n",
    "        print\"no\"\n",
    "\n",
    "yes_checker(1 != 0)\n",
    "yes_checker(1+1 == 3)"
   ]
  },
  {
   "cell_type": "code",
   "execution_count": 32,
   "metadata": {
    "collapsed": false
   },
   "outputs": [
    {
     "ename": "SyntaxError",
     "evalue": "invalid syntax (<ipython-input-32-f6c860ba679a>, line 1)",
     "output_type": "error",
     "traceback": [
      "\u001b[0;36m  File \u001b[0;32m\"<ipython-input-32-f6c860ba679a>\"\u001b[0;36m, line \u001b[0;32m1\u001b[0m\n\u001b[0;31m    --> a(x)^2+b*x+c\u001b[0m\n\u001b[0m      ^\u001b[0m\n\u001b[0;31mSyntaxError\u001b[0m\u001b[0;31m:\u001b[0m invalid syntax\n"
     ]
    }
   ],
   "source": [
    "--> a(x)^2+b*x+c\n",
    "def call_polynomial(a, b, x)"
   ]
  }
 ],
 "metadata": {
  "kernelspec": {
   "display_name": "Python 2",
   "language": "python",
   "name": "python2"
  },
  "language_info": {
   "codemirror_mode": {
    "name": "ipython",
    "version": 2
   },
   "file_extension": ".py",
   "mimetype": "text/x-python",
   "name": "python",
   "nbconvert_exporter": "python",
   "pygments_lexer": "ipython2",
   "version": "2.7.11"
  }
 },
 "nbformat": 4,
 "nbformat_minor": 0
}
